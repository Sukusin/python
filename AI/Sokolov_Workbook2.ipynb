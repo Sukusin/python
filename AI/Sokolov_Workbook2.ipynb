{
 "cells": [
  {
   "attachments": {},
   "cell_type": "markdown",
   "metadata": {},
   "source": [
    "# 1.3 Задания"
   ]
  },
  {
   "cell_type": "code",
   "execution_count": 1,
   "metadata": {},
   "outputs": [
    {
     "name": "stdout",
     "output_type": "stream",
     "text": [
      "[[0 1 0 1 0 1 0 1]\n",
      " [1 0 1 0 1 0 1 0]\n",
      " [0 1 0 1 0 1 0 1]\n",
      " [1 0 1 0 1 0 1 0]\n",
      " [0 1 0 1 0 1 0 1]\n",
      " [1 0 1 0 1 0 1 0]\n",
      " [0 1 0 1 0 1 0 1]\n",
      " [1 0 1 0 1 0 1 0]]\n"
     ]
    }
   ],
   "source": [
    "#1.3.1\n",
    "import numpy as np\n",
    "\n",
    "x = np.zeros((8,8), dtype = int)\n",
    "\n",
    "x[1::2, ::2] = 1\n",
    "x[::2, 1::2] = 1\n",
    "\n",
    "print(x)"
   ]
  },
  {
   "cell_type": "code",
   "execution_count": 2,
   "metadata": {},
   "outputs": [
    {
     "name": "stdout",
     "output_type": "stream",
     "text": [
      "[[0 1 2 3 4]\n",
      " [0 1 2 3 4]\n",
      " [0 1 2 3 4]\n",
      " [0 1 2 3 4]\n",
      " [0 1 2 3 4]]\n"
     ]
    }
   ],
   "source": [
    "#1.3.2\n",
    "import numpy as np\n",
    "\n",
    "x = np.zeros((5,5), dtype = int)\n",
    "\n",
    "for i in range(0, 5, 1):\n",
    "    x[i] = np.arange(0,5)\n",
    "\n",
    "print(x)"
   ]
  },
  {
   "cell_type": "code",
   "execution_count": 3,
   "metadata": {},
   "outputs": [
    {
     "name": "stdout",
     "output_type": "stream",
     "text": [
      "[[[7. 5. 8.]\n",
      "  [8. 2. 8.]\n",
      "  [0. 5. 9.]]\n",
      "\n",
      " [[1. 2. 0.]\n",
      "  [7. 6. 8.]\n",
      "  [6. 9. 9.]]\n",
      "\n",
      " [[3. 3. 7.]\n",
      "  [0. 9. 4.]\n",
      "  [2. 1. 0.]]]\n"
     ]
    }
   ],
   "source": [
    "#1.3.3\n",
    "import numpy as np\n",
    "\n",
    "x = np.random.random((3,3,3)) * 10//1\n",
    "\n",
    "print(x)"
   ]
  },
  {
   "cell_type": "code",
   "execution_count": 5,
   "metadata": {},
   "outputs": [
    {
     "name": "stdout",
     "output_type": "stream",
     "text": [
      "[[1 1 1 1 1 1 1]\n",
      " [1 0 0 0 0 0 1]\n",
      " [1 0 0 0 0 0 1]\n",
      " [1 0 0 0 0 0 1]\n",
      " [1 0 0 0 0 0 1]\n",
      " [1 0 0 0 0 0 1]\n",
      " [1 1 1 1 1 1 1]]\n"
     ]
    }
   ],
   "source": [
    "#1.3.4\n",
    "import numpy as np\n",
    "\n",
    "x = np.ones((7,7), dtype= int)\n",
    "\n",
    "x[1:-1, 1:-1] = 0\n",
    "\n",
    "print(x)"
   ]
  },
  {
   "cell_type": "code",
   "execution_count": 6,
   "metadata": {},
   "outputs": [
    {
     "name": "stdout",
     "output_type": "stream",
     "text": [
      "[9 8 7 6 5 4 3 2 1 0]\n"
     ]
    }
   ],
   "source": [
    "#1.3.5\n",
    "import numpy as np\n",
    "\n",
    "x = np.arange(0,10)\n",
    "x = x[::-1]\n",
    "\n",
    "print(x)"
   ]
  },
  {
   "cell_type": "code",
   "execution_count": 10,
   "metadata": {},
   "outputs": [
    {
     "name": "stdout",
     "output_type": "stream",
     "text": [
      "[[ 1  2  3 11]\n",
      " [ 4  5  6 12]\n",
      " [ 7  8  9 13]]\n",
      "Размер матрицы:  (3, 4)\n",
      "Размерность матрицы 12\n",
      "Форма матрицы 2\n"
     ]
    }
   ],
   "source": [
    "#1.3.6\n",
    "import numpy as np\n",
    "\n",
    "x = np.array([[1, 2, 3, 11],\n",
    "     [4, 5, 6, 12],\n",
    "     [7 , 8, 9, 13]])\n",
    "print(x)\n",
    "print(\"Размер матрицы: \", x.shape)\n",
    "print(\"Размерность матрицы\", x.size)\n",
    "print(\"Форма матрицы\", x.ndim)"
   ]
  }
 ],
 "metadata": {
  "kernelspec": {
   "display_name": "Python 3",
   "language": "python",
   "name": "python3"
  },
  "language_info": {
   "codemirror_mode": {
    "name": "ipython",
    "version": 3
   },
   "file_extension": ".py",
   "mimetype": "text/x-python",
   "name": "python",
   "nbconvert_exporter": "python",
   "pygments_lexer": "ipython3",
   "version": "3.11.1"
  },
  "orig_nbformat": 4,
  "vscode": {
   "interpreter": {
    "hash": "539f65a5145185563a1c4db7fde4c9e8585c07b6a352287eb64a2a2d189d7b84"
   }
  }
 },
 "nbformat": 4,
 "nbformat_minor": 2
}
